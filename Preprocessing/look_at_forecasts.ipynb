{
 "cells": [
  {
   "cell_type": "code",
   "execution_count": 1,
   "metadata": {},
   "outputs": [],
   "source": [
    "import numpy as np\n",
    "import pandas as pd\n",
    "import matplotlib.pyplot as plt"
   ]
  },
  {
   "cell_type": "code",
   "execution_count": 2,
   "metadata": {},
   "outputs": [],
   "source": [
    "data = pd.read_csv('../data/data.csv')"
   ]
  },
  {
   "cell_type": "code",
   "execution_count": 3,
   "metadata": {},
   "outputs": [
    {
     "name": "stdout",
     "output_type": "stream",
     "text": [
      "['SLSHDCRC', 'ACTSLS', 'FNLBSFRC', 'FNLRLLFRC', 'SLSBDG']\n"
     ]
    }
   ],
   "source": [
    "print(list(set(data['FieldID'])))"
   ]
  },
  {
   "cell_type": "code",
   "execution_count": 4,
   "metadata": {},
   "outputs": [],
   "source": [
    "#Keep only actual sales and remove uneeded cols\n",
    "def drop_cols_and_rows(data, cols_to_drop, row_to_keep):\n",
    "    data = data[data['FieldID'].isin(row_to_keep)]\n",
    "    data.drop(columns=cols_to_drop, axis=1, inplace=True)\n",
    "    return data\n",
    "\n",
    "\n",
    "#Rename cols\n",
    "def col_renamer(data, rename_dict):\n",
    "    for col_name in list(rename_dict.keys()):\n",
    "        data.rename(columns={col_name:rename_dict[col_name]}, inplace=True)\n",
    "    return data\n",
    "\n",
    "\n",
    "#Select cols to keep\n",
    "def col_selecter(data, selected_cols):\n",
    "    data = data[selected_cols]\n",
    "    return data\n",
    "\n",
    "\n",
    "#Make artificial time index to pass into dataframe builer\n",
    "def create_time_index(data):\n",
    "    data['Date']= pd.to_datetime(data['Date'])\n",
    "    data[\"Date\"].dt.year * 12\n",
    "    data[\"time_idx\"] = data[\"Date\"].dt.year * 12 + data[\"Date\"].dt.month\n",
    "    data[\"time_idx\"] -= data[\"time_idx\"].min()\n",
    "    data[\"month\"] = data.Date.dt.month.astype(str).astype(\"category\")\n",
    "    return data\n",
    "\n",
    "\n",
    "#Create average cols for groups, remove volume under zero\n",
    "def feature_engineering(data):\n",
    "    data.Volume=data.Volume.mask(data.Volume.lt(0),0)\n",
    "    data[\"log_volume\"] = np.log(data.Volume + 1e-8)\n",
    "    data[\"avg_volume_by_material\"] = data.groupby([\"time_idx\", \"ItemID\"], observed=True).Volume.transform(\"mean\")\n",
    "    data[\"avg_volume_by_plant\"] = data.groupby([\"time_idx\", \"PlantID\"], observed=True).Volume.transform(\"mean\")\n",
    "    data = data.assign(\n",
    "                        timeseries=pd.factorize(list(zip(\n",
    "                        *[data[c].values.tolist() for c in ['PlantID', 'ItemID']]\n",
    "                        )))[0] + 1\n",
    "                        )\n",
    "    return data\n",
    "\n",
    "\n",
    "#Only use if want to remove final time index\n",
    "def remove_last_time_idx(data):\n",
    "    data = data[data['time_idx'] != 35]\n",
    "    return data\n",
    "\n",
    "\n",
    "#Print summary of data\n",
    "def data_summary(data):\n",
    "    print('')\n",
    "    print('Data size:')\n",
    "    print(data.shape)\n",
    "    print('Data columns:')\n",
    "    print(data.columns.values)\n",
    "    print('')\n",
    "\n",
    "\n",
    "#Link all functions together\n",
    "def preprocessing(data, cols_to_drop, row_to_keep, rename_dict, selected_cols):\n",
    "    data_summary(data)\n",
    "    data = drop_cols_and_rows(data, cols_to_drop, row_to_keep)\n",
    "    data = col_renamer(data, rename_dict)\n",
    "    data = col_selecter(data, selected_cols)\n",
    "    data = create_time_index(data)\n",
    "    data = feature_engineering(data)\n",
    "    data = remove_last_time_idx(data)\n",
    "    data_summary(data)\n",
    "    return data"
   ]
  },
  {
   "cell_type": "code",
   "execution_count": 5,
   "metadata": {},
   "outputs": [
    {
     "name": "stdout",
     "output_type": "stream",
     "text": [
      "\n",
      "Data size:\n",
      "(2961504, 11)\n",
      "Data columns:\n",
      "['ProductLineID' 'PlanningPeriod' 'ItemID' 'PlantID' 'PlannedPeriod'\n",
      " 'PeriodDiff' 'FieldID' 'Field' 'FieldContent' 'UpdateBy' 'UpdateWhen']\n",
      "\n"
     ]
    },
    {
     "name": "stderr",
     "output_type": "stream",
     "text": [
      "C:\\Users\\Joseph.Amess\\Anaconda3\\lib\\site-packages\\pandas\\core\\frame.py:4906: SettingWithCopyWarning: \n",
      "A value is trying to be set on a copy of a slice from a DataFrame\n",
      "\n",
      "See the caveats in the documentation: https://pandas.pydata.org/pandas-docs/stable/user_guide/indexing.html#returning-a-view-versus-a-copy\n",
      "  return super().drop(\n",
      "C:\\Users\\Joseph.Amess\\Anaconda3\\lib\\site-packages\\pandas\\core\\frame.py:5039: SettingWithCopyWarning: \n",
      "A value is trying to be set on a copy of a slice from a DataFrame\n",
      "\n",
      "See the caveats in the documentation: https://pandas.pydata.org/pandas-docs/stable/user_guide/indexing.html#returning-a-view-versus-a-copy\n",
      "  return super().rename(\n"
     ]
    },
    {
     "name": "stdout",
     "output_type": "stream",
     "text": [
      "\n",
      "Data size:\n",
      "(1657032, 11)\n",
      "Data columns:\n",
      "['PlantID' 'ItemID' 'Volume' 'Date' 'FieldID' 'time_idx' 'month'\n",
      " 'log_volume' 'avg_volume_by_material' 'avg_volume_by_plant' 'timeseries']\n",
      "\n",
      "\n",
      "Data size:\n",
      "(2961504, 11)\n",
      "Data columns:\n",
      "['ProductLineID' 'PlanningPeriod' 'ItemID' 'PlantID' 'PlannedPeriod'\n",
      " 'PeriodDiff' 'FieldID' 'Field' 'FieldContent' 'UpdateBy' 'UpdateWhen']\n",
      "\n",
      "\n",
      "Data size:\n",
      "(1657032, 11)\n",
      "Data columns:\n",
      "['PlantID' 'ItemID' 'Volume' 'Date' 'FieldID' 'time_idx' 'month'\n",
      " 'log_volume' 'avg_volume_by_material' 'avg_volume_by_plant' 'timeseries']\n",
      "\n"
     ]
    }
   ],
   "source": [
    "#Run function for preprocessing\n",
    "COLS_TO_DROP = ['Field', 'UpdateBy', 'UpdateWhen', 'PlanningPeriod', 'ProductLineID', 'PeriodDiff']\n",
    "ROW_TO_KEEP = ['ACTSLS', 'FNLRLLFRC']\n",
    "RENAME_DICT = {'FieldContent':'Volume', 'PlannedPeriod':'Date'}\n",
    "SELECTED_COLS = ['PlantID', 'ItemID', 'Volume', 'Date', 'FieldID']\n",
    "non_corrected = preprocessing(data, COLS_TO_DROP, ROW_TO_KEEP, RENAME_DICT, SELECTED_COLS)\n",
    "COLS_TO_DROP = ['Field', 'UpdateBy', 'UpdateWhen', 'PlanningPeriod', 'ProductLineID', 'PeriodDiff']\n",
    "ROW_TO_KEEP = ['ACTSLS', 'SLSHDCRC']\n",
    "RENAME_DICT = {'FieldContent':'Volume', 'PlannedPeriod':'Date'}\n",
    "SELECTED_COLS = ['PlantID', 'ItemID', 'Volume', 'Date', 'FieldID']\n",
    "corrected = preprocessing(data, COLS_TO_DROP, ROW_TO_KEEP, RENAME_DICT, SELECTED_COLS)"
   ]
  },
  {
   "cell_type": "code",
   "execution_count": 34,
   "metadata": {},
   "outputs": [],
   "source": [
    "def timeseries_selection(data, num_zeros, num_to_print):\n",
    "    timeseries_info = data.groupby('timeseries', as_index=False).agg(lambda x: x.eq(0).sum())[['Volume', 'timeseries']]\n",
    "    selected_timeseries = np.array(list(timeseries_info[timeseries_info['Volume'] == num_zeros]['timeseries']))\n",
    "    random_indices = np.random.randint(0, len(selected_timeseries), num_to_print)\n",
    "    random_timeseries = selected_timeseries[random_indices]\n",
    "    return random_timeseries\n",
    "\n",
    "\n",
    "def plot(actual, forecast1, forecast2):\n",
    "    plt.figure(figsize=(15, 9))\n",
    "    plt.grid()\n",
    "    plt.plot(actual['Date'], actual['Volume'], c='b', label='Actual Sales')\n",
    "    plt.plot(forecast1['Date'], forecast1['Volume'], c='r', label='Forecast uncorrected')\n",
    "    plt.plot(forecast2['Date'], forecast2['Volume'], c='g', label='Forecast corrected')\n",
    "    plt.legend()\n",
    "    plt.title('Actual sales and forecast')\n",
    "    plt.xlabel('Date')\n",
    "    plt.ylabel('Demand')\n",
    "    plt.show()\n",
    "\n",
    "\n",
    "def choose_forecasts(data1, data2, num_zeros, num_to_print, forecast_choice1, forecast_choice2):\n",
    "    random_timeseries = timeseries_selection(data1, num_zeros, num_to_print)\n",
    "    selected_data1 = data1[data1['timeseries'].isin(random_timeseries)]\n",
    "    selected_data2 = data2[data2['timeseries'].isin(random_timeseries)]\n",
    "    for timeseries in list(set(selected_data1['timeseries'])):\n",
    "        timeseries_data1 = selected_data1[selected_data1['timeseries'] == timeseries]\n",
    "        timeseries_data2 = selected_data2[selected_data2['timeseries'] == timeseries]\n",
    "        ACTSLS = timeseries_data1[timeseries_data1['FieldID'] == 'ACTSLS'][['Date', 'Volume']]\n",
    "        forecast2 = timeseries_data2[timeseries_data2['FieldID'] == forecast_choice2][['Date', 'Volume']]\n",
    "        forecast1 = timeseries_data1[timeseries_data1['FieldID'] == forecast_choice1][['Date', 'Volume']]\n",
    "        plot(ACTSLS, forecast1, forecast2)"
   ]
  },
  {
   "cell_type": "code",
   "execution_count": 38,
   "metadata": {},
   "outputs": [],
   "source": [
    "NUM_TO_PRINT = 30\n",
    "NUM_ZEROS = 2\n",
    "FORECAST_CHOICE1 = 'FNLRLLFRC'\n",
    "FORECAST_CHOICE2 = 'SLSHDCRC'\n",
    "#choose_forecasts(non_corrected, corrected, NUM_ZEROS, NUM_TO_PRINT, FORECAST_CHOICE1, FORECAST_CHOICE2)"
   ]
  },
  {
   "cell_type": "markdown",
   "metadata": {},
   "source": [
    "**Determine how many forecasts are zero when the last few months are zero**"
   ]
  },
  {
   "cell_type": "code",
   "execution_count": 46,
   "metadata": {},
   "outputs": [],
   "source": [
    "def forecast_assessment(data):\n",
    "    percent_zeros_list = []\n",
    "    num_months = []\n",
    "    for i in range(1, 10):\n",
    "        num_months.append(i)\n",
    "        timeseries_info = data.groupby('timeseries', as_index=False).agg(lambda x: x[35 - i:35].sum())[['Volume', 'timeseries']]\n",
    "        ACTSLS_zeros = np.array(list(timeseries_info[timeseries_info['Volume'] == 0]['timeseries']))\n",
    "        data_selected = data[data['timeseries'].isin(ACTSLS_zeros)]\n",
    "        timeseries_info_2 = data_selected.groupby('timeseries', as_index=False).agg(lambda x: x[35::].sum())[['Volume', 'timeseries']]\n",
    "        forecast_zeros = np.array(list(timeseries_info_2[timeseries_info_2['Volume'] == 0]['timeseries']))\n",
    "        percent_zeros = 100 * (len(forecast_zeros) / len(ACTSLS_zeros))\n",
    "        percent_zeros_list.append(percent_zeros)\n",
    "    return percent_zeros_list, num_months\n",
    "\n",
    "\n",
    "percent_zeros_list, num_months = forecast_assessment(corrected)"
   ]
  },
  {
   "cell_type": "code",
   "execution_count": 47,
   "metadata": {},
   "outputs": [
    {
     "name": "stderr",
     "output_type": "stream",
     "text": [
      "No handles with labels found to put in legend.\n"
     ]
    },
    {
     "data": {
      "image/png": "[encoded data removed]",
      "text/plain": [
       "<Figure size 1080x648 with 1 Axes>"
      ]
     },
     "metadata": {
      "needs_background": "light"
     },
     "output_type": "display_data"
    }
   ],
   "source": [
    "def plot_forecast_zeros(percent_zeros_list, num_months):\n",
    "    plt.figure(figsize=(15, 9))\n",
    "    plt.grid()\n",
    "    plt.bar(num_months, percent_zeros_list)\n",
    "    plt.legend()\n",
    "    plt.title('Percent all zeros forecasted for different number of zero months in ACTSLS')\n",
    "    plt.xlabel('Num of months that had zero demand before forecast')\n",
    "    plt.ylabel('Percent zeros in forecasts')\n",
    "    plt.show()\n",
    "\n",
    "\n",
    "plot_forecast_zeros(percent_zeros_list, num_months)"
   ]
  },
  {
   "cell_type": "code",
   "execution_count": null,
   "metadata": {},
   "outputs": [],
   "source": []
  }
 ],
 "metadata": {
  "interpreter": {
   "hash": "39107c45289741facd1c574d4c3f3f1db037868d86098ed4da8abb8e076ff11e"
  },
  "kernelspec": {
   "display_name": "Python 3.8.11 ('base')",
   "language": "python",
   "name": "python3"
  },
  "language_info": {
   "codemirror_mode": {
    "name": "ipython",
    "version": 3
   },
   "file_extension": ".py",
   "mimetype": "text/x-python",
   "name": "python",
   "nbconvert_exporter": "python",
   "pygments_lexer": "ipython3",
   "version": "3.8.11"
  },
  "orig_nbformat": 4
 },
 "nbformat": 4,
 "nbformat_minor": 2
}
