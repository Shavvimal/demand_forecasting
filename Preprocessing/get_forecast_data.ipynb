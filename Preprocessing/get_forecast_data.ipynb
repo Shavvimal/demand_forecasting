{
 "cells": [
  {
   "cell_type": "code",
   "execution_count": 1,
   "metadata": {},
   "outputs": [],
   "source": [
    "import numpy as np\n",
    "import pandas as pd\n",
    "import matplotlib.pyplot as plt"
   ]
  },
  {
   "cell_type": "code",
   "execution_count": 2,
   "metadata": {},
   "outputs": [],
   "source": [
    "data = pd.read_csv('../data/data.csv')"
   ]
  },
  {
   "cell_type": "code",
   "execution_count": 3,
   "metadata": {},
   "outputs": [],
   "source": [
    "#Keep only actual sales and remove uneeded cols\n",
    "def drop_cols_and_rows(data, cols_to_drop, row_to_keep):\n",
    "    data = data[data['FieldID'].isin(row_to_keep)]\n",
    "    data.drop(columns=cols_to_drop, axis=1, inplace=True)\n",
    "    return data\n",
    "\n",
    "\n",
    "#Rename cols\n",
    "def col_renamer(data, rename_dict):\n",
    "    for col_name in list(rename_dict.keys()):\n",
    "        data.rename(columns={col_name:rename_dict[col_name]}, inplace=True)\n",
    "    return data\n",
    "\n",
    "\n",
    "#Select cols to keep\n",
    "def col_selecter(data, selected_cols):\n",
    "    data = data[selected_cols]\n",
    "    return data\n",
    "\n",
    "\n",
    "#Make artificial time index to pass into dataframe builer\n",
    "def create_time_index(data):\n",
    "    data['Date']= pd.to_datetime(data['Date'])\n",
    "    data[\"Date\"].dt.year * 12\n",
    "    data[\"time_idx\"] = data[\"Date\"].dt.year * 12 + data[\"Date\"].dt.month\n",
    "    data[\"time_idx\"] -= data[\"time_idx\"].min()\n",
    "    data[\"month\"] = data.Date.dt.month.astype(str).astype(\"category\")\n",
    "    return data\n",
    "\n",
    "\n",
    "#Create average cols for groups, remove volume under zero\n",
    "def feature_engineering(data):\n",
    "    data.Volume=data.Volume.mask(data.Volume.lt(0),0)\n",
    "    data[\"log_volume\"] = np.log(data.Volume + 1e-8)\n",
    "    data[\"avg_volume_by_material\"] = data.groupby([\"time_idx\", \"ItemID\"], observed=True).Volume.transform(\"mean\")\n",
    "    data[\"avg_volume_by_plant\"] = data.groupby([\"time_idx\", \"PlantID\"], observed=True).Volume.transform(\"mean\")\n",
    "    data = data.assign(\n",
    "                        timeseries=pd.factorize(list(zip(\n",
    "                        *[data[c].values.tolist() for c in ['PlantID', 'ItemID']]\n",
    "                        )))[0] + 1\n",
    "                        )\n",
    "    return data\n",
    "\n",
    "\n",
    "#Only use id want to remove final time index\n",
    "def remove_last_time_idx(data):\n",
    "    data = data[data['time_idx'] != 35]\n",
    "    return data\n",
    "\n",
    "\n",
    "#Print summary of data\n",
    "def data_summary(data):\n",
    "    print('')\n",
    "    print('Data size:')\n",
    "    print(data.shape)\n",
    "    print('Data columns:')\n",
    "    print(data.columns.values)\n",
    "    print('')\n",
    "\n",
    "\n",
    "#Link all functions together\n",
    "def preprocessing(data, cols_to_drop, row_to_keep, rename_dict, selected_cols):\n",
    "    data_summary(data)\n",
    "    data = drop_cols_and_rows(data, cols_to_drop, row_to_keep)\n",
    "    data = col_renamer(data, rename_dict)\n",
    "    data = col_selecter(data, selected_cols)\n",
    "    data = create_time_index(data)\n",
    "    data = feature_engineering(data)\n",
    "    data = remove_last_time_idx(data)\n",
    "    data_summary(data)\n",
    "    return data"
   ]
  },
  {
   "cell_type": "code",
   "execution_count": 6,
   "metadata": {},
   "outputs": [
    {
     "name": "stdout",
     "output_type": "stream",
     "text": [
      "\n",
      "Data size:\n",
      "(2961504, 11)\n",
      "Data columns:\n",
      "['ProductLineID' 'PlanningPeriod' 'ItemID' 'PlantID' 'PlannedPeriod'\n",
      " 'PeriodDiff' 'FieldID' 'Field' 'FieldContent' 'UpdateBy' 'UpdateWhen']\n",
      "\n"
     ]
    },
    {
     "name": "stderr",
     "output_type": "stream",
     "text": [
      "C:\\Users\\Joseph.Amess\\Anaconda3\\lib\\site-packages\\pandas\\core\\frame.py:4906: SettingWithCopyWarning: \n",
      "A value is trying to be set on a copy of a slice from a DataFrame\n",
      "\n",
      "See the caveats in the documentation: https://pandas.pydata.org/pandas-docs/stable/user_guide/indexing.html#returning-a-view-versus-a-copy\n",
      "  return super().drop(\n",
      "C:\\Users\\Joseph.Amess\\Anaconda3\\lib\\site-packages\\pandas\\core\\frame.py:5039: SettingWithCopyWarning: \n",
      "A value is trying to be set on a copy of a slice from a DataFrame\n",
      "\n",
      "See the caveats in the documentation: https://pandas.pydata.org/pandas-docs/stable/user_guide/indexing.html#returning-a-view-versus-a-copy\n",
      "  return super().rename(\n"
     ]
    },
    {
     "name": "stdout",
     "output_type": "stream",
     "text": [
      "\n",
      "Data size:\n",
      "(423072, 10)\n",
      "Data columns:\n",
      "['PlantID' 'ItemID' 'Volume' 'Date' 'time_idx' 'month' 'log_volume'\n",
      " 'avg_volume_by_material' 'avg_volume_by_plant' 'timeseries']\n",
      "\n"
     ]
    }
   ],
   "source": [
    "#Run function for preprocessing\n",
    "COLS_TO_DROP = ['Field', 'UpdateBy', 'UpdateWhen', 'PlanningPeriod', 'ProductLineID', 'PeriodDiff']\n",
    "ROW_TO_KEEP = ['FNLBSFRC']\n",
    "RENAME_DICT = {'FieldContent':'Volume', 'PlannedPeriod':'Date'}\n",
    "SELECTED_COLS = ['PlantID', 'ItemID', 'Volume', 'Date']\n",
    "data_processed = preprocessing(data, COLS_TO_DROP, ROW_TO_KEEP, RENAME_DICT, SELECTED_COLS)"
   ]
  },
  {
   "cell_type": "code",
   "execution_count": 7,
   "metadata": {},
   "outputs": [],
   "source": [
    "pd.DataFrame.to_csv(data_processed, '../data/data_forecast.csv')"
   ]
  }
 ],
 "metadata": {
  "interpreter": {
   "hash": "39107c45289741facd1c574d4c3f3f1db037868d86098ed4da8abb8e076ff11e"
  },
  "kernelspec": {
   "display_name": "Python 3.8.11 ('base')",
   "language": "python",
   "name": "python3"
  },
  "language_info": {
   "codemirror_mode": {
    "name": "ipython",
    "version": 3
   },
   "file_extension": ".py",
   "mimetype": "text/x-python",
   "name": "python",
   "nbconvert_exporter": "python",
   "pygments_lexer": "ipython3",
   "version": "3.8.11"
  },
  "orig_nbformat": 4
 },
 "nbformat": 4,
 "nbformat_minor": 2
}
