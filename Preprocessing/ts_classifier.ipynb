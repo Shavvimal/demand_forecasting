{
 "cells": [
  {
   "cell_type": "code",
   "execution_count": 58,
   "metadata": {},
   "outputs": [],
   "source": [
    "import pandas as pd\n",
    "import numpy as np\n",
    "import matplotlib.pyplot as plt\n",
    "import torch\n",
    "from sklearn.preprocessing import StandardScaler\n",
    "import torch.nn.functional as F\n",
    "import torch.nn as nn\n",
    "import torch.optim as optim\n",
    "from sklearn.model_selection import train_test_split\n",
    "from sklearn.metrics import mean_squared_error\n",
    "from sklearn.metrics import mean_absolute_error, mean_absolute_percentage_error, accuracy_score, confusion_matrix\n",
    "from sklearn.preprocessing import MinMaxScaler\n",
    "from sklearn.preprocessing import StandardScaler\n",
    "import tsfel as ts"
   ]
  },
  {
   "cell_type": "markdown",
   "metadata": {},
   "source": [
    "**Coding a classifier to try to predict the number of zeros in the 6 month prediction period of a timeseries**"
   ]
  },
  {
   "cell_type": "code",
   "execution_count": 59,
   "metadata": {},
   "outputs": [],
   "source": [
    "train = np.load('../data/temporal_feature_train.npy', allow_pickle=True)"
   ]
  },
  {
   "cell_type": "code",
   "execution_count": 60,
   "metadata": {},
   "outputs": [
    {
     "name": "stdout",
     "output_type": "stream",
     "text": [
      "Before:\n",
      "4421\n",
      "6030\n",
      "1609\n",
      "\n",
      "After:\n",
      "6030\n",
      "6030\n"
     ]
    }
   ],
   "source": [
    "def classification(data):\n",
    "    for i in range(data.shape[0]):\n",
    "        if data[i, -1] != 0:\n",
    "            data[i, -1] = 1\n",
    "    return data\n",
    "\n",
    "\n",
    "def resample(data):\n",
    "    print('Before:')\n",
    "    print(len(data[data[:, -1] == 0]))\n",
    "    print(len(data[data[:, -1] == 1]))\n",
    "    if len(data[data[:, -1] == 0]) < len(data[data[:, -1] == 1]):\n",
    "        dif =  len(data[data[:, -1] == 1]) - len(data[data[:, -1] == 0])\n",
    "        print(dif)\n",
    "        zeros = data[data[:, -1] == 0]\n",
    "        rand_zeros = zeros[np.random.randint(0, zeros.shape[0], dif), :]\n",
    "        data = np.append(data, rand_zeros, axis=0)\n",
    "    else:\n",
    "        dif = len(data[data[:, -1] == 0]) - len(data[data[:, -1] == 1])\n",
    "        ones = data[data[:, -1] == 1]\n",
    "        rand_ones = ones[np.random.randint(0, ones.shape[0], dif), :]\n",
    "        data = np.append(data, rand_ones, axis=0)\n",
    "    print('')\n",
    "    print('After:')\n",
    "    print(len(data[data[:, -1] == 0]))\n",
    "    print(len(data[data[:, -1] == 1]))\n",
    "    return data\n",
    "\n",
    "\n",
    "\n",
    "train_classified = classification(train)\n",
    "train_resampled = resample(train_classified)"
   ]
  },
  {
   "cell_type": "code",
   "execution_count": 74,
   "metadata": {},
   "outputs": [],
   "source": [
    "class NN(nn.Module):\n",
    "    def __init__(self):\n",
    "        super(NN, self).__init__()\n",
    "        self.fc1 = nn.Linear(train_resampled.shape[1] - 1, 20)\n",
    "        self.fc2 = nn.Linear(20, 5)\n",
    "        self.fc3 = nn.Linear(5, 1)\n",
    "        self.relu = nn.LeakyReLU()\n",
    "        self.tanh = nn.Tanh()\n",
    "        self.hardswish = nn.Hardswish()\n",
    "        self.sigmoid = nn.Sigmoid()\n",
    "        self.initialise_weights()\n",
    "    \n",
    "\n",
    "    def forward(self, x):\n",
    "        x = self.fc1(x)\n",
    "        x = self.tanh(x)\n",
    "        x = self.fc2(x)\n",
    "        x = self.tanh(x)\n",
    "        x = self.fc3(x)\n",
    "        x = self.sigmoid(x)\n",
    "        return x\n",
    "    \n",
    "    \n",
    "    def initialise_weights(self):\n",
    "        for m in self.modules():\n",
    "            if isinstance(m, nn.Linear):\n",
    "                torch.nn.init.uniform_(m.weight, -0.1, 0.1)"
   ]
  },
  {
   "cell_type": "code",
   "execution_count": 75,
   "metadata": {},
   "outputs": [
    {
     "name": "stdout",
     "output_type": "stream",
     "text": [
      "Loss at epoch 1 is 0.5302442140247098\n",
      "Loss at epoch 2 is 0.5107197637729977\n",
      "Loss at epoch 3 is 0.5093582621706065\n",
      "Loss at epoch 4 is 0.5061620829710319\n",
      "Loss at epoch 5 is 0.5033629296678018\n",
      "Loss at epoch 6 is 0.5006433922803619\n",
      "Loss at epoch 7 is 0.49924574073274336\n",
      "Loss at epoch 8 is 0.4984011593001399\n",
      "Loss at epoch 9 is 0.4980130064645612\n",
      "Loss at epoch 10 is 0.4971049366948221\n",
      "Loss at epoch 11 is 0.49624727404433894\n",
      "Loss at epoch 12 is 0.49609906828126704\n",
      "Loss at epoch 13 is 0.49539025367591316\n",
      "Loss at epoch 14 is 0.49490087408924577\n",
      "Loss at epoch 15 is 0.49374977683348836\n",
      "Loss at epoch 16 is 0.49346419884691983\n",
      "Loss at epoch 17 is 0.49314932547398466\n",
      "Loss at epoch 18 is 0.4926150623047925\n",
      "Loss at epoch 19 is 0.49214541286872593\n",
      "Loss at epoch 20 is 0.4916761982104869\n",
      "Loss at epoch 21 is 0.4908176020504428\n",
      "Loss at epoch 22 is 0.4909062926004182\n",
      "Loss at epoch 23 is 0.49049083821809114\n",
      "Loss at epoch 24 is 0.4902211526288322\n",
      "Loss at epoch 25 is 0.49004911877227264\n",
      "Loss at epoch 26 is 0.4893607901993082\n",
      "Loss at epoch 27 is 0.4895333616838329\n",
      "Loss at epoch 28 is 0.4886741577392787\n",
      "Loss at epoch 29 is 0.4886232736840177\n",
      "Loss at epoch 30 is 0.48871305765303014\n",
      "Loss at epoch 31 is 0.4883241540509868\n",
      "Loss at epoch 32 is 0.4883444485181995\n",
      "Loss at epoch 33 is 0.48778799176216125\n",
      "Loss at epoch 34 is 0.4875991092145344\n",
      "Loss at epoch 35 is 0.4871674612732867\n",
      "Loss at epoch 36 is 0.4868337853285013\n",
      "Loss at epoch 37 is 0.4871745032704687\n",
      "Loss at epoch 38 is 0.48669172208107525\n",
      "Loss at epoch 39 is 0.48646992946639783\n",
      "Loss at epoch 40 is 0.48588980262354636\n",
      "Loss at epoch 41 is 0.48566173899233045\n",
      "Loss at epoch 42 is 0.485090194674669\n",
      "Loss at epoch 43 is 0.4850458222538678\n",
      "Loss at epoch 44 is 0.48492639404327714\n",
      "Loss at epoch 45 is 0.4845196524415641\n",
      "Loss at epoch 46 is 0.4844909902433456\n",
      "Loss at epoch 47 is 0.48451719387352565\n",
      "Loss at epoch 48 is 0.48354578403691156\n",
      "Loss at epoch 49 is 0.4839517418326035\n",
      "Loss at epoch 50 is 0.4833919603877993\n",
      "Loss at epoch 51 is 0.4839042738500124\n",
      "Loss at epoch 52 is 0.4831166635846617\n",
      "Loss at epoch 53 is 0.48308030524558293\n",
      "Loss at epoch 54 is 0.4825183532724333\n",
      "Loss at epoch 55 is 0.4825448674546743\n",
      "Loss at epoch 56 is 0.4826719506364161\n",
      "Loss at epoch 57 is 0.48295436260810937\n",
      "Loss at epoch 58 is 0.4821419132684989\n",
      "Loss at epoch 59 is 0.4818175297916232\n",
      "Loss at epoch 60 is 0.48170626067107\n",
      "Loss at epoch 61 is 0.481885101640007\n",
      "Loss at epoch 62 is 0.4814945208789104\n",
      "Loss at epoch 63 is 0.48175172841370995\n",
      "Loss at epoch 64 is 0.4811663997558812\n",
      "Loss at epoch 65 is 0.48094109204871144\n",
      "Loss at epoch 66 is 0.48119631468953183\n",
      "Loss at epoch 67 is 0.4808449710334711\n",
      "Loss at epoch 68 is 0.4804256171680011\n",
      "Loss at epoch 69 is 0.48108012475085693\n",
      "Loss at epoch 70 is 0.4803690890075753\n",
      "Loss at epoch 71 is 0.48010722506995224\n",
      "Loss at epoch 72 is 0.48006785385446565\n",
      "Loss at epoch 73 is 0.47956033562546346\n",
      "Loss at epoch 74 is 0.47993897000454355\n",
      "Loss at epoch 75 is 0.47979345977009824\n",
      "Loss at epoch 76 is 0.47945255945571025\n",
      "Loss at epoch 77 is 0.4799539295100849\n",
      "Loss at epoch 78 is 0.4795367441466001\n",
      "Loss at epoch 79 is 0.4787072396248727\n",
      "Loss at epoch 80 is 0.47918483081148633\n",
      "Loss at epoch 81 is 0.47858266875913885\n",
      "Loss at epoch 82 is 0.47919011289009805\n",
      "Loss at epoch 83 is 0.47829440290457376\n",
      "Loss at epoch 84 is 0.4782560241855001\n",
      "Loss at epoch 85 is 0.4777188175056704\n",
      "Loss at epoch 86 is 0.47776750570308313\n",
      "Loss at epoch 87 is 0.47772547004630117\n",
      "Loss at epoch 88 is 0.4775463280887351\n",
      "Loss at epoch 89 is 0.47734572855789664\n",
      "Loss at epoch 90 is 0.4772897222099415\n",
      "Loss at epoch 91 is 0.47714316118415906\n",
      "Loss at epoch 92 is 0.47744638436963505\n",
      "Loss at epoch 93 is 0.47662763865927166\n",
      "Loss at epoch 94 is 0.47701263286877627\n",
      "Loss at epoch 95 is 0.4766635905154309\n",
      "Loss at epoch 96 is 0.4769366338824356\n",
      "Loss at epoch 97 is 0.4766442334622293\n",
      "Loss at epoch 98 is 0.47621407865192955\n",
      "Loss at epoch 99 is 0.47600591165410544\n",
      "Loss at epoch 100 is 0.476832659881111\n"
     ]
    }
   ],
   "source": [
    "# Train model\n",
    "torch.manual_seed(42)\n",
    "running_loss = 0\n",
    "NN = NN()\n",
    "batchSize_NN = 20\n",
    "maxEpochs_NN = 100\n",
    "criterion_NN = nn.BCELoss()\n",
    "optimiser_NN = torch.optim.Adam(NN.parameters(), lr=0.002)\n",
    "optimiser_NN.zero_grad()\n",
    "trainloader_NN = torch.utils.data.DataLoader(train_resampled, batch_size=batchSize_NN, shuffle=True)\n",
    "losses_NN = []\n",
    "epochs_NN = []\n",
    "for epoch in range(1, maxEpochs_NN + 1):\n",
    "    for batch in trainloader_NN:\n",
    "        optimiser_NN.zero_grad()\n",
    "        y_vals = batch[:, -1]\n",
    "        y_vals = torch.reshape(y_vals, (len(y_vals), 1))\n",
    "        features = batch[:, 0:-1]\n",
    "        y_pred = NN(features.float())\n",
    "        loss = criterion_NN(y_pred, y_vals.float())\n",
    "        loss.backward()\n",
    "        optimiser_NN.step()\n",
    "        loss = loss.item()\n",
    "        running_loss += loss\n",
    "    average_loss = (running_loss / (train_resampled.shape[0] / batchSize_NN))\n",
    "    print('Loss at epoch', epoch, 'is', average_loss)\n",
    "    losses_NN.append(average_loss)\n",
    "    epochs_NN.append(epoch)\n",
    "    running_loss = 0"
   ]
  },
  {
   "cell_type": "code",
   "execution_count": 76,
   "metadata": {},
   "outputs": [
    {
     "data": {
      "image/png": "[encoded data removed]",
      "text/plain": [
       "<Figure size 432x288 with 1 Axes>"
      ]
     },
     "metadata": {
      "needs_background": "light"
     },
     "output_type": "display_data"
    }
   ],
   "source": [
    "plt.plot(epochs_NN, losses_NN)\n",
    "plt.show()"
   ]
  },
  {
   "cell_type": "code",
   "execution_count": 77,
   "metadata": {},
   "outputs": [],
   "source": [
    "test = np.load('../data/temporal_feature_test.npy', allow_pickle=True)"
   ]
  },
  {
   "cell_type": "code",
   "execution_count": 78,
   "metadata": {},
   "outputs": [],
   "source": [
    "test_classified = classification(test)"
   ]
  },
  {
   "cell_type": "code",
   "execution_count": 80,
   "metadata": {},
   "outputs": [
    {
     "name": "stdout",
     "output_type": "stream",
     "text": [
      "Size of scaled dataset: (10451, 18)\n",
      "[[2887  485]\n",
      " [1668 5411]]\n",
      "4555\n",
      "5896\n",
      "10451\n",
      "\n",
      "79.4 %\n"
     ]
    }
   ],
   "source": [
    "#Encode data with trained encoder and attached column to use for colour coding\n",
    "def predict(data):\n",
    "    past_vols = data[:, 0:-1]\n",
    "    y_labels = data[:, -1]\n",
    "    print('Size of scaled dataset:', np.shape(past_vols))\n",
    "    torch_array = torch.from_numpy(past_vols).float()\n",
    "    preds = NN(torch_array).detach()\n",
    "    for i in range(preds.shape[0]):\n",
    "        if preds[i] < 0.5:\n",
    "            preds[i] = 0\n",
    "        else:\n",
    "            preds[i] = 1\n",
    "    accuracy = round(accuracy_score(y_labels, preds), 4) * 100\n",
    "    print(confusion_matrix(y_labels, preds))\n",
    "    print(len(preds[preds == 0]))\n",
    "    print(len(preds[preds == 1]))\n",
    "    print(len(preds))\n",
    "    print('')\n",
    "    print(accuracy, '%')\n",
    "    return preds\n",
    "\n",
    "\n",
    "preds = predict(test_classified)"
   ]
  },
  {
   "cell_type": "code",
   "execution_count": 83,
   "metadata": {},
   "outputs": [],
   "source": [
    "np.save('forecast_classification', preds, allow_pickle=True)"
   ]
  }
 ],
 "metadata": {
  "interpreter": {
   "hash": "39107c45289741facd1c574d4c3f3f1db037868d86098ed4da8abb8e076ff11e"
  },
  "kernelspec": {
   "display_name": "Python 3.8.11 ('base')",
   "language": "python",
   "name": "python3"
  },
  "language_info": {
   "codemirror_mode": {
    "name": "ipython",
    "version": 3
   },
   "file_extension": ".py",
   "mimetype": "text/x-python",
   "name": "python",
   "nbconvert_exporter": "python",
   "pygments_lexer": "ipython3",
   "version": "3.8.11"
  },
  "orig_nbformat": 4
 },
 "nbformat": 4,
 "nbformat_minor": 2
}
