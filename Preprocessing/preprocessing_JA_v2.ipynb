{
 "cells": [
  {
   "cell_type": "code",
   "execution_count": 2,
   "metadata": {},
   "outputs": [],
   "source": [
    "import numpy as np\n",
    "import pandas as pd\n",
    "import matplotlib.pyplot as plt\n",
    "import tsfel as ts"
   ]
  },
  {
   "cell_type": "markdown",
   "metadata": {},
   "source": [
    "**Main preprocessing turning extra vars and raw dataframe into dataframe to be put into TFT**"
   ]
  },
  {
   "cell_type": "code",
   "execution_count": 2,
   "metadata": {},
   "outputs": [
    {
     "name": "stderr",
     "output_type": "stream",
     "text": [
      "C:\\Users\\Joseph.Amess\\Anaconda3\\lib\\site-packages\\IPython\\core\\interactiveshell.py:3441: DtypeWarning: Columns (10,11,13,15,16,20,26,30,33,34) have mixed types.Specify dtype option on import or set low_memory=False.\n",
      "  exec(code_obj, self.user_global_ns, self.user_ns)\n"
     ]
    }
   ],
   "source": [
    "extra_vars = pd.read_csv('../data/extra_data.csv')"
   ]
  },
  {
   "cell_type": "code",
   "execution_count": 3,
   "metadata": {},
   "outputs": [
    {
     "name": "stdout",
     "output_type": "stream",
     "text": [
      "['CalendarPeriod' 'ItemID' 'PlantID' 'SalesTargetGroupID' 'Period'\n",
      " 'PlanningPeriod' 'PlannedPeriod' 'PeriodDiff' 'ProductLineID' 'Plant'\n",
      " 'SalesTargetGroup' 'ItemGroupFlag' 'PlantFlag' 'SalesTargetGroupFlag'\n",
      " 'UpdateMode' 'Country' 'DistributionChannel' 'ItemGroupID' 'ItemGroup'\n",
      " 'Division' 'ABCIndicator' 'SKULabel' 'CountryID' 'NewProductIndicator'\n",
      " 'Quality' 'RimSize' 'SAG1' 'SAG2' 'SAG3' 'SAG4' 'Season' 'SpeedIndex'\n",
      " 'SKU' 'UHPNonUHPIndicator' 'SalesOffice' 'PlanningVersion'\n",
      " 'ProportionalFactor' 'FixedProportionalFactor' 'AbsoluteGrossMargin'\n",
      " 'BaseUnit' 'BaselineForecast' 'SalesBudget' 'ClusterHeadCorrection'\n",
      " 'CorrectedSalesHistory' 'EuroPoolGrowthPercentage' 'EuroPoolGrowth'\n",
      " 'ExtraKF01' 'ExtraKF02' 'ExtraKF03' 'ExtraKF04' 'ExtraKF05' 'ExtraKF06'\n",
      " 'ExtraKF07' 'ExtraKF08' 'ExtraKF09' 'ExtraKF10' 'FinalBaseForecast'\n",
      " 'FinalRollingForecast' 'ForecastSnapShot' 'OrderWallet' 'SalesHistory'\n",
      " 'SalesCorrections' 'SellingPrice' 'SalesHeadCorrection' 'SalesYearMinus1'\n",
      " 'SalesYearMinus2' 'SalesYearMinus3' 'TotalRevenues' 'UnitOfMeasure'\n",
      " 'PhaseINDates' 'PhaseOutDates' 'CountryHeadCorrection' 'UpdateBy'\n",
      " 'UpdateWhen' 'ParentItemID' 'ItemFlag']\n",
      "(2863504, 76)\n"
     ]
    }
   ],
   "source": [
    "print(extra_vars.columns.values)\n",
    "print(extra_vars.shape)"
   ]
  },
  {
   "cell_type": "code",
   "execution_count": 3,
   "metadata": {},
   "outputs": [
    {
     "name": "stderr",
     "output_type": "stream",
     "text": [
      "C:\\Users\\Joseph.Amess\\Anaconda3\\lib\\site-packages\\IPython\\core\\interactiveshell.py:3441: DtypeWarning: Columns (9) have mixed types.Specify dtype option on import or set low_memory=False.\n",
      "  exec(code_obj, self.user_global_ns, self.user_ns)\n"
     ]
    }
   ],
   "source": [
    "#raw data file\n",
    "data = pd.read_csv('../data/data__raw_23_03_22.csv')"
   ]
  },
  {
   "cell_type": "code",
   "execution_count": 5,
   "metadata": {},
   "outputs": [],
   "source": [
    "#merge extra selected vars with raw data file\n",
    "def merge_dataframes(data, extra_data, selected_cols):\n",
    "    data = data.reset_index()\n",
    "    extra_data = extra_data.reset_index()\n",
    "    extra_data_grouped = extra_data.groupby(['PlantID', 'ParentItemID'], as_index=False).first()\n",
    "    extra_data_grouped = extra_data_grouped[selected_cols]\n",
    "    data_updated = pd.merge(data, extra_data_grouped, how='left', on=['ParentItemID', 'PlantID'])\n",
    "    return data_updated\n",
    "\n",
    "\n",
    "COLS = ['PlantID', 'ParentItemID', 'SAG1', 'SAG2', 'SAG3', 'SAG4', \n",
    "        'Quality', 'RimSize', 'Season', 'SpeedIndex', 'UHPNonUHPIndicator', \n",
    "        'SalesTargetGroup', 'Division']\n",
    "\n",
    "data_updated = merge_dataframes(data, extra_vars, COLS)"
   ]
  },
  {
   "cell_type": "code",
   "execution_count": 6,
   "metadata": {},
   "outputs": [
    {
     "name": "stdout",
     "output_type": "stream",
     "text": [
      "(2906736, 22)\n",
      "(2906736, 10)\n",
      "   index ProductLineID PlanningPeriod       ParentItemID PlantID  \\\n",
      "0      0           PCR     2022-01-01  AI15570013TARCA20    5M01   \n",
      "1      1           PCR     2022-01-01  AI15570013TARCA20    5M01   \n",
      "2      2           PCR     2022-01-01  AI15570013TARCA20    5M01   \n",
      "3      3           PCR     2022-01-01  AI15570013TARCA20    5M01   \n",
      "4      4           PCR     2022-01-01  AI15570013TARCA20    5M01   \n",
      "\n",
      "  PlannedPeriod  PeriodDiff FieldID  FieldContent UpdateBy  ... SAG2 SAG3  \\\n",
      "0    2019-02-01         -35  ACTSLS            15     Proc  ...  WSP  WIN   \n",
      "1    2019-03-01         -34  ACTSLS             0     Proc  ...  WSP  WIN   \n",
      "2    2019-04-01         -33  ACTSLS             0     Proc  ...  WSP  WIN   \n",
      "3    2019-05-01         -32  ACTSLS             0     Proc  ...  WSP  WIN   \n",
      "4    2019-06-01         -31  ACTSLS             8     Proc  ...  WSP  WIN   \n",
      "\n",
      "  SAG4 Quality RimSize           Season  SpeedIndex UHPNonUHPIndicator  \\\n",
      "0   AB       A    13.0  WINTER (NORDIC)           T               NUHP   \n",
      "1   AB       A    13.0  WINTER (NORDIC)           T               NUHP   \n",
      "2   AB       A    13.0  WINTER (NORDIC)           T               NUHP   \n",
      "3   AB       A    13.0  WINTER (NORDIC)           T               NUHP   \n",
      "4   AB       A    13.0  WINTER (NORDIC)           T               NUHP   \n",
      "\n",
      "  SalesTargetGroup Division  \n",
      "0   Export Various       PC  \n",
      "1   Export Various       PC  \n",
      "2   Export Various       PC  \n",
      "3   Export Various       PC  \n",
      "4   Export Various       PC  \n",
      "\n",
      "[5 rows x 22 columns]\n"
     ]
    }
   ],
   "source": [
    "print(data_updated.shape)\n",
    "print(data.shape)\n",
    "print(data_updated.head())"
   ]
  },
  {
   "cell_type": "code",
   "execution_count": 7,
   "metadata": {},
   "outputs": [],
   "source": [
    "#drop nulls\n",
    "def drop_nulls(data):\n",
    "    data = data[data['ForecastFlag'] == 1]\n",
    "    return data\n",
    "\n",
    "\n",
    "#Keep only actual sales select planning period and remove uneeded cols\n",
    "def drop_cols_and_rows(data, cols_to_drop, row_to_keep, period_choice):\n",
    "    data = data[data['FieldID'].isin(row_to_keep)]\n",
    "    data = data[data['PlanningPeriod'] == period_choice]\n",
    "    data.drop(columns=cols_to_drop, axis=1, inplace=True)\n",
    "    return data\n",
    "\n",
    "\n",
    "#Rename cols\n",
    "def col_renamer(data, rename_dict):\n",
    "    for col_name in list(rename_dict.keys()):\n",
    "        data.rename(columns={col_name:rename_dict[col_name]}, inplace=True)\n",
    "    return data\n",
    "\n",
    "\n",
    "#Select cols to keep\n",
    "def col_selecter(data, selected_cols):\n",
    "    data = data[selected_cols]\n",
    "    return data\n",
    "\n",
    "\n",
    "#Make artificial time index to pass into dataframe builer\n",
    "def create_time_index(data):\n",
    "    data['Date']= pd.to_datetime(data['Date'])\n",
    "    data[\"Date\"].dt.year * 12\n",
    "    data[\"time_idx\"] = data[\"Date\"].dt.year * 12 + data[\"Date\"].dt.month\n",
    "    data[\"time_idx\"] -= data[\"time_idx\"].min()\n",
    "    data[\"month\"] = data.Date.dt.month.astype(str).astype(\"category\")\n",
    "    return data\n",
    "\n",
    "\n",
    "#Only use if want to remove final time index\n",
    "def remove_last_time_idx(data):\n",
    "    data = data[data['time_idx'] != 35]\n",
    "    return data\n",
    "\n",
    "\n",
    "#Create average cols for groups, remove volume under zero\n",
    "def feature_engineering(data):\n",
    "    data.Volume=data.Volume.mask(data.Volume.lt(0),0)\n",
    "    data[\"log_volume\"] = np.log(data.Volume + 1e-8)\n",
    "    data['log_ret'] = data['log_volume'] - data['log_volume'].shift(1)\n",
    "    data['log_ret'] = data['log_ret'].fillna(0)\n",
    "    data[\"avg_volume_by_material\"] = data.groupby([\"time_idx\", \"ParentItemID\"], observed=True).Volume.transform(\"mean\") #removed plantID\n",
    "    data[\"max_volume_by_material\"] = data.groupby([\"time_idx\", \"ParentItemID\"], observed=True).Volume.transform(\"max\")\n",
    "    data[\"min_volume_by_material\"] = data.groupby([\"time_idx\", \"ParentItemID\"], observed=True).Volume.transform(\"min\")\n",
    "    data[\"std_volume_by_material\"] = data.groupby([\"time_idx\", \"ParentItemID\"], observed=True).Volume.transform(\"std\")\n",
    "    data[\"std_volume_by_material\"] = data.groupby([\"time_idx\", \"ParentItemID\"], observed=True).Volume.transform(\"sum\")\n",
    "    data[\"avg_volume_by_plant\"] = data.groupby([\"time_idx\", \"PlantID\"], observed=True).Volume.transform(\"mean\")\n",
    "    data[\"max_volume_by_plant\"] = data.groupby([\"time_idx\", \"PlantID\"], observed=True).Volume.transform(\"max\")\n",
    "    data[\"min_volume_by_plant\"] = data.groupby([\"time_idx\", \"PlantID\"], observed=True).Volume.transform(\"min\")\n",
    "    data[\"std_volume_by_plant\"] = data.groupby([\"time_idx\", \"PlantID\"], observed=True).Volume.transform(\"std\")\n",
    "    data[\"std_volume_by_plant\"] = data.groupby([\"time_idx\", \"PlantID\"], observed=True).Volume.transform(\"sum\")\n",
    "    data = data.assign(\n",
    "                        timeseries=pd.factorize(list(zip(\n",
    "                        *[data[c].values.tolist() for c in ['ParentItemID', 'PlantID']] #removed plantID\n",
    "                        )))[0] + 1\n",
    "                        )\n",
    "    return data\n",
    "\n",
    "\n",
    "#Print summary of data\n",
    "def data_summary(data):\n",
    "    print('')\n",
    "    print('Data size:')\n",
    "    print(data.shape)\n",
    "    print('Data columns:')\n",
    "    print(data.columns.values)\n",
    "    print('')\n",
    "\n",
    "#For filtering out timeseries where there is no APO forecast\n",
    "def forecast_filtering(data):\n",
    "    timeseries_selection = list(data.groupby('timeseries').filter(lambda x: sum(x['Volume']) > 1)['timeseries'].unique())\n",
    "    forecast_data = data[data['timeseries'].isin(timeseries_selection)]\n",
    "    return timeseries_selection, forecast_data\n",
    "\n",
    "\n",
    "#Based on timeseries from forecast filtering, filter timeseries of actual sales \n",
    "def sales_filtering(data, timeseries_selection):\n",
    "    filtered_data = data[data['timeseries'].isin(timeseries_selection)]\n",
    "    return filtered_data"
   ]
  },
  {
   "cell_type": "code",
   "execution_count": 8,
   "metadata": {},
   "outputs": [
    {
     "name": "stdout",
     "output_type": "stream",
     "text": [
      "\n",
      "Data size:\n",
      "(2906736, 22)\n",
      "Data columns:\n",
      "['index' 'ProductLineID' 'PlanningPeriod' 'ParentItemID' 'PlantID'\n",
      " 'PlannedPeriod' 'PeriodDiff' 'FieldID' 'FieldContent' 'UpdateBy'\n",
      " 'UpdateWhen' 'SAG1' 'SAG2' 'SAG3' 'SAG4' 'Quality' 'RimSize' 'Season'\n",
      " 'SpeedIndex' 'UHPNonUHPIndicator' 'SalesTargetGroup' 'Division']\n",
      "\n",
      "\n",
      "Data size:\n",
      "(125412, 26)\n",
      "Data columns:\n",
      "['ParentItemID' 'PlantID' 'Volume' 'Date' 'SAG1' 'SAG2' 'SAG3' 'SAG4'\n",
      " 'Quality' 'RimSize' 'Season' 'SpeedIndex' 'UHPNonUHPIndicator' 'time_idx'\n",
      " 'month' 'log_volume' 'log_ret' 'avg_volume_by_material'\n",
      " 'max_volume_by_material' 'min_volume_by_material'\n",
      " 'std_volume_by_material' 'avg_volume_by_plant' 'max_volume_by_plant'\n",
      " 'min_volume_by_plant' 'std_volume_by_plant' 'timeseries']\n",
      "\n"
     ]
    }
   ],
   "source": [
    "#Filter forecasts where there is a prediction\n",
    "def preprocessing(data, cols_to_drop, row_to_keep, rename_dict, selected_cols, period_choice):\n",
    "    data_summary(data)\n",
    "    #data = drop_nulls(data)\n",
    "    data = drop_cols_and_rows(data, cols_to_drop, row_to_keep, period_choice)\n",
    "    data = col_renamer(data, rename_dict)\n",
    "    data = col_selecter(data, selected_cols)\n",
    "    data = create_time_index(data)\n",
    "    data = remove_last_time_idx(data)\n",
    "    data = feature_engineering(data)\n",
    "    timeseries_selection, forecast_data = forecast_filtering(data)\n",
    "    data_summary(forecast_data)\n",
    "    return timeseries_selection, forecast_data\n",
    "\n",
    "\n",
    "COLS_TO_DROP = ['FieldID', 'UpdateBy', 'UpdateWhen', 'PlanningPeriod', 'ProductLineID', 'PeriodDiff']\n",
    "ROW_TO_KEEP = ['SLSHDCRC']\n",
    "RENAME_DICT = {'FieldContent':'Volume', 'PlannedPeriod':'Date'}\n",
    "SELECTED_COLS = ['ParentItemID', 'PlantID', 'Volume', 'Date', \n",
    "                'SAG1', 'SAG2', 'SAG3', 'SAG4', 'Quality', \n",
    "                'RimSize', 'Season', 'SpeedIndex', 'UHPNonUHPIndicator']\n",
    "PLANNING_DATE = '2022-01-01'\n",
    "timeseries_selection, forecast_data = preprocessing(data_updated, COLS_TO_DROP, ROW_TO_KEEP, RENAME_DICT, SELECTED_COLS, PLANNING_DATE)"
   ]
  },
  {
   "cell_type": "code",
   "execution_count": 9,
   "metadata": {},
   "outputs": [
    {
     "name": "stdout",
     "output_type": "stream",
     "text": [
      "10451.0\n"
     ]
    }
   ],
   "source": [
    "print(forecast_data.shape[0] / 12)"
   ]
  },
  {
   "cell_type": "code",
   "execution_count": 10,
   "metadata": {},
   "outputs": [
    {
     "name": "stdout",
     "output_type": "stream",
     "text": [
      "\n",
      "Data size:\n",
      "(2906736, 22)\n",
      "Data columns:\n",
      "['index' 'ProductLineID' 'PlanningPeriod' 'ParentItemID' 'PlantID'\n",
      " 'PlannedPeriod' 'PeriodDiff' 'FieldID' 'FieldContent' 'UpdateBy'\n",
      " 'UpdateWhen' 'SAG1' 'SAG2' 'SAG3' 'SAG4' 'Quality' 'RimSize' 'Season'\n",
      " 'SpeedIndex' 'UHPNonUHPIndicator' 'SalesTargetGroup' 'Division']\n",
      "\n",
      "\n",
      "Data size:\n",
      "(365785, 26)\n",
      "Data columns:\n",
      "['ParentItemID' 'PlantID' 'Volume' 'Date' 'SAG1' 'SAG2' 'SAG3' 'SAG4'\n",
      " 'Quality' 'RimSize' 'Season' 'SpeedIndex' 'UHPNonUHPIndicator' 'time_idx'\n",
      " 'month' 'log_volume' 'log_ret' 'avg_volume_by_material'\n",
      " 'max_volume_by_material' 'min_volume_by_material'\n",
      " 'std_volume_by_material' 'avg_volume_by_plant' 'max_volume_by_plant'\n",
      " 'min_volume_by_plant' 'std_volume_by_plant' 'timeseries']\n",
      "\n"
     ]
    }
   ],
   "source": [
    "#Filter true volume wrt to filtered forecasts\n",
    "def preprocessing_2(data, cols_to_drop, row_to_keep, rename_dict, selected_cols, period_choice, timeseries_selection):\n",
    "    data_summary(data)\n",
    "    #data = drop_nulls(data)\n",
    "    data = drop_cols_and_rows(data, cols_to_drop, row_to_keep, period_choice)\n",
    "    data = col_renamer(data, rename_dict)\n",
    "    data = col_selecter(data, selected_cols)\n",
    "    data = create_time_index(data)\n",
    "    data = remove_last_time_idx(data)\n",
    "    data = feature_engineering(data)\n",
    "    filtered_data = sales_filtering(data, timeseries_selection)\n",
    "    data_summary(filtered_data)\n",
    "    return filtered_data\n",
    "\n",
    "\n",
    "COLS_TO_DROP = ['FieldID', 'UpdateBy', 'UpdateWhen', 'PlanningPeriod', 'ProductLineID', 'PeriodDiff']\n",
    "ROW_TO_KEEP = ['ACTSLS']\n",
    "RENAME_DICT = {'FieldContent':'Volume', 'PlannedPeriod':'Date'}\n",
    "SELECTED_COLS = ['ParentItemID', 'PlantID', 'Volume', 'Date', \n",
    "                'SAG1', 'SAG2', 'SAG3', 'SAG4', 'Quality', \n",
    "                'RimSize', 'Season', 'SpeedIndex', 'UHPNonUHPIndicator']\n",
    "PLANNING_DATE = '2022-01-01'\n",
    "filtered_data = preprocessing_2(data_updated, COLS_TO_DROP, ROW_TO_KEEP, RENAME_DICT, SELECTED_COLS, PLANNING_DATE, timeseries_selection)"
   ]
  },
  {
   "cell_type": "code",
   "execution_count": 11,
   "metadata": {},
   "outputs": [
    {
     "name": "stdout",
     "output_type": "stream",
     "text": [
      "Number of timeseries remaining: 10451.0\n"
     ]
    }
   ],
   "source": [
    "print('Number of timeseries remaining:', filtered_data.shape[0] / 35)"
   ]
  },
  {
   "cell_type": "code",
   "execution_count": 12,
   "metadata": {},
   "outputs": [
    {
     "name": "stdout",
     "output_type": "stream",
     "text": [
      "(365785, 26)\n"
     ]
    }
   ],
   "source": [
    "print(filtered_data.shape)"
   ]
  },
  {
   "cell_type": "code",
   "execution_count": 13,
   "metadata": {},
   "outputs": [
    {
     "name": "stdout",
     "output_type": "stream",
     "text": [
      "[ 0  1  2  3  4  5  6  7  8  9 10 11 12 13 14 15 16 17 18 19 20 21 22 23\n",
      " 24 25 26 27 28 29 30 31 32 33 34]\n"
     ]
    }
   ],
   "source": [
    "print(filtered_data['time_idx'].unique())"
   ]
  },
  {
   "cell_type": "code",
   "execution_count": 14,
   "metadata": {},
   "outputs": [
    {
     "name": "stdout",
     "output_type": "stream",
     "text": [
      "0\n"
     ]
    }
   ],
   "source": [
    "#Check filtering has worked\n",
    "def check_volume(data, selected_timeseries):\n",
    "    count = 0\n",
    "    for series in selected_timeseries:\n",
    "        timeseries_vol_sum = sum(data[data['timeseries'] == series]['Volume'])\n",
    "        if timeseries_vol_sum < 2:\n",
    "            count += 1\n",
    "    print(count)\n",
    "\n",
    "check_volume(forecast_data, timeseries_selection)"
   ]
  },
  {
   "cell_type": "code",
   "execution_count": 15,
   "metadata": {},
   "outputs": [],
   "source": [
    "#Add in encodings from autoencoder\n",
    "encodings = np.load('../data/temporal_encodings.npy')\n",
    "#temporal_features = pd.read_csv('../data/temporal_feature_set')"
   ]
  },
  {
   "cell_type": "code",
   "execution_count": 16,
   "metadata": {},
   "outputs": [],
   "source": [
    "def add_encodings(data, encodings):\n",
    "    ts_list = list(data.timeseries.unique())\n",
    "    encoding_array = np.zeros((data.shape[0], 3))\n",
    "    for i in range(1, len(ts_list)):\n",
    "        ts_encodings_array = np.zeros((35, 3))\n",
    "        ts_encodings = encodings[i, :]\n",
    "        encoding_1_array = np.full((35), ts_encodings[0])\n",
    "        encoding_2_array = np.full((35), ts_encodings[1])\n",
    "        encoding_3_array = np.full((35), ts_encodings[2])\n",
    "        ts_encodings_array[:, 0] = encoding_1_array\n",
    "        ts_encodings_array[:, 1] = encoding_2_array\n",
    "        ts_encodings_array[:, 2] = encoding_3_array\n",
    "        encoding_array[(i - 1) * 35:i * 35, :] = ts_encodings_array\n",
    "    encoding_df = pd.DataFrame(encoding_array, columns=['encoding_1', 'encoding_2', 'encoding_3']).reset_index()\n",
    "    data = data.reset_index()\n",
    "    data_new = pd.concat([data, encoding_df], axis=1)\n",
    "    return data_new\n",
    "\n",
    "\n",
    "data_new = add_encodings(filtered_data, encodings)"
   ]
  },
  {
   "cell_type": "code",
   "execution_count": 17,
   "metadata": {},
   "outputs": [],
   "source": [
    "def add_temporal_features(data, features):\n",
    "    features = pd.concat([features] * 35, ignore_index=True)\n",
    "    features = features.sort_values('Unnamed: 0', axis=0)\n",
    "    data = data.reset_index()\n",
    "    data_new = pd.concat([data, features], axis=1)\n",
    "    return data_new\n",
    "\n",
    "\n",
    "#data_new = add_temporal_features(filtered_data, temporal_features)"
   ]
  },
  {
   "cell_type": "code",
   "execution_count": 84,
   "metadata": {},
   "outputs": [],
   "source": [
    "pd.DataFrame.to_csv(data_new, '../data/data_processed_plant_item_new_vars_15_03_22_V2.csv')"
   ]
  },
  {
   "cell_type": "code",
   "execution_count": 58,
   "metadata": {},
   "outputs": [],
   "source": [
    "#filter zeros\n",
    "def remove_zeros(data, zero_threshold):\n",
    "    print('before filter:')\n",
    "    print(data.shape)\n",
    "    print('Num of timeseries:', len(data['timeseries'].unique()))\n",
    "    selected_data = data.groupby('timeseries', as_index=False).filter(lambda x: sum(x['Volume'].iloc[29::].lt(5)) < zero_threshold)\n",
    "    print('')\n",
    "    print('After filter:')\n",
    "    print(selected_data.shape)\n",
    "    print('Num of timeseries:', len(selected_data['timeseries'].unique()))\n",
    "    print('')\n",
    "    print('Percent timeseries removed:', round(100 - (100 *  len(selected_data['timeseries'].unique()) / (len(data['timeseries'].unique()))), 2), '%')\n",
    "    return selected_data\n",
    "\n",
    "\n",
    "#ZERO_THRESHOLD = 4\n",
    "#selected_data = remove_zeros(data_processed, ZERO_THRESHOLD)"
   ]
  },
  {
   "cell_type": "code",
   "execution_count": 19,
   "metadata": {},
   "outputs": [],
   "source": [
    "def volume_distribution(data, percent_step, groupby_col):\n",
    "    percent_range = list(range(0, 100, percent_step))\n",
    "    timeseries_percentages = []\n",
    "    timeseries_totals = []\n",
    "    percent_steps = []\n",
    "    cumulative_percent_steps = []\n",
    "    cumulative_percents = []\n",
    "    cumulative_percent = 0\n",
    "    num_zeros_in_timeseries = data.groupby(groupby_col, as_index=False).agg(lambda x: 100 * (x.eq(0).sum() / 35))['Volume']\n",
    "    print('')\n",
    "    print('Completed groupby aggregation')\n",
    "    print('')\n",
    "    for percent in percent_range:\n",
    "        #Crop from lower bound\n",
    "        timeseries_upper = num_zeros_in_timeseries[num_zeros_in_timeseries >= percent]\n",
    "        # This is to make sure that all 100% values are accounted for, they wouldnt be if I used < 100 for the final band\n",
    "        if percent == percent_range[-1]:\n",
    "            timeseries_lower = timeseries_upper\n",
    "        else:\n",
    "            #Crop from upper band\n",
    "            timeseries_lower = timeseries_upper[timeseries_upper < percent + percent_step]\n",
    "        #Calc percent of timeseries that fall into band\n",
    "        timeseries_percentage = 100 * (timeseries_lower.shape[0] / num_zeros_in_timeseries.shape[0])\n",
    "        #Cum percent\n",
    "        cumulative_percent += timeseries_percentage\n",
    "        cumulative_percents.append(cumulative_percent)\n",
    "        timeseries_percentages.append(timeseries_percentage)\n",
    "        #Counts without percent calc\n",
    "        timeseries_totals.append(timeseries_lower.shape[0])\n",
    "        #Create x axis labels\n",
    "        range_of_pct = str(percent) + '' + '-' + '' + str(percent + percent_step) + '' + '%'\n",
    "        cum_pct = '<=' + '' + str(percent + percent_step)\n",
    "        cumulative_percent_steps.append(cum_pct)\n",
    "        percent_steps.append(range_of_pct)\n",
    "    #Check to see if adds to 100%\n",
    "    print('Sum of percent timeseries:', sum(timeseries_percentages))\n",
    "    return timeseries_percentages, timeseries_totals, cumulative_percents, cumulative_percent_steps, percent_steps"
   ]
  },
  {
   "cell_type": "code",
   "execution_count": 21,
   "metadata": {},
   "outputs": [
    {
     "name": "stdout",
     "output_type": "stream",
     "text": [
      "\n",
      "Completed groupby aggregation\n",
      "\n",
      "Sum of percent timeseries: 100.0\n"
     ]
    }
   ],
   "source": [
    "#Assess distribution of volume of filtered dataset\n",
    "PERCENT_STEP = 5\n",
    "GROUPBY = 'timeseries'\n",
    "timeseries_percentages, timeseries_totals, cumulative_percents, cumulative_percent_steps, percent_steps = volume_distribution(\n",
    "                                                                                                                                filtered_data, \n",
    "                                                                                                                                PERCENT_STEP,\n",
    "                                                                                                                                GROUPBY)"
   ]
  },
  {
   "cell_type": "code",
   "execution_count": 22,
   "metadata": {},
   "outputs": [
    {
     "data": {
      "image/png": "[encoded data removed]",
      "text/plain": [
       "<Figure size 1080x576 with 1 Axes>"
      ]
     },
     "metadata": {
      "needs_background": "light"
     },
     "output_type": "display_data"
    },
    {
     "data": {
      "image/png": "[encoded data removed]",
      "text/plain": [
       "<Figure size 1080x576 with 1 Axes>"
      ]
     },
     "metadata": {
      "needs_background": "light"
     },
     "output_type": "display_data"
    },
    {
     "data": {
      "image/png": "[encoded data removed]",
      "text/plain": [
       "<Figure size 1080x576 with 1 Axes>"
      ]
     },
     "metadata": {
      "needs_background": "light"
     },
     "output_type": "display_data"
    },
    {
     "name": "stdout",
     "output_type": "stream",
     "text": [
      "Old dataset\n"
     ]
    }
   ],
   "source": [
    "#Look at distribution of zeros in filtered dataframe\n",
    "\n",
    "plt.figure(figsize=(15, 8))\n",
    "plt.grid()\n",
    "plt.title('Percentage of timeseries where number of zeros lie in percent bands', fontsize=15)\n",
    "plt.bar(percent_steps, timeseries_percentages)\n",
    "plt.xticks(rotation='vertical')\n",
    "plt.xlabel('Percent ranges', fontsize=13)\n",
    "plt.ylabel('Percent of timeseries made up of zeros', fontsize=13)\n",
    "plt.show()\n",
    "\n",
    "plt.figure(figsize=(15, 8))\n",
    "plt.grid()\n",
    "plt.title('Cumulative percent of timeseries where number of zeros lie below a value', fontsize=15)\n",
    "plt.bar(cumulative_percent_steps, cumulative_percents)\n",
    "plt.xticks(rotation='vertical')\n",
    "plt.xlabel('Percent of timeseries made up of zeros', fontsize=13)\n",
    "plt.ylabel('Percent of timeseries within percent range (%)', fontsize=13)\n",
    "plt.show()\n",
    "\n",
    "plt.figure(figsize=(15, 8))\n",
    "plt.grid()\n",
    "plt.title('Count of timeseries where number of zeros lie within a certain pecent range', fontsize=15)\n",
    "plt.bar(percent_steps, timeseries_totals)\n",
    "plt.xticks(rotation='vertical')\n",
    "plt.xlabel('Percent of timeseries made up of zeros', fontsize=13)\n",
    "plt.ylabel('Count of timeseries within percent range', fontsize=13)\n",
    "plt.show()\n",
    "\n",
    "print('Old dataset')"
   ]
  },
  {
   "cell_type": "code",
   "execution_count": 23,
   "metadata": {},
   "outputs": [],
   "source": [
    "#pd.DataFrame.to_csv(filtered_data, '../data/data_processed_plant_item_12_03_22.csv')"
   ]
  },
  {
   "cell_type": "code",
   "execution_count": 24,
   "metadata": {},
   "outputs": [],
   "source": [
    "#Remove timeseries predicted as zeros\n",
    "#classifications = np.load('forecast_classification.npy')"
   ]
  },
  {
   "cell_type": "code",
   "execution_count": 25,
   "metadata": {},
   "outputs": [],
   "source": [
    "def remove_zero_preds(classifications, data):\n",
    "    print('num zeros in classifications:', len(classifications[classifications == 0]))\n",
    "    timeseries_list = list(data.timeseries.unique())\n",
    "    for i in range(len(timeseries_list)):\n",
    "        ts_num = timeseries_list[i]\n",
    "        if classifications[i] == 0:\n",
    "            data = data[data['timeseries'] != ts_num]\n",
    "    print('num timeseries left after removal:', len(data.timeseries.unique()))\n",
    "    return data\n",
    "\n",
    "\n",
    "#filtered_data_2 = remove_zero_preds(classifications, filtered_data)"
   ]
  }
 ],
 "metadata": {
  "interpreter": {
   "hash": "39107c45289741facd1c574d4c3f3f1db037868d86098ed4da8abb8e076ff11e"
  },
  "kernelspec": {
   "display_name": "Python 3.8.11 ('base')",
   "language": "python",
   "name": "python3"
  },
  "language_info": {
   "codemirror_mode": {
    "name": "ipython",
    "version": 3
   },
   "file_extension": ".py",
   "mimetype": "text/x-python",
   "name": "python",
   "nbconvert_exporter": "python",
   "pygments_lexer": "ipython3",
   "version": "3.8.11"
  },
  "orig_nbformat": 4
 },
 "nbformat": 4,
 "nbformat_minor": 2
}
