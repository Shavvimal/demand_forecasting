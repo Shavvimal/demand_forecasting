{
 "cells": [
  {
   "cell_type": "code",
   "execution_count": 1,
   "metadata": {},
   "outputs": [],
   "source": [
    "import pandas as pd\n",
    "import numpy as np\n",
    "from statsmodels.tsa.arima.model import ARIMA\n",
    "import matplotlib.pyplot as plt\n",
    "import warnings\n",
    "warnings.filterwarnings(\"ignore\")"
   ]
  },
  {
   "cell_type": "code",
   "execution_count": 2,
   "metadata": {},
   "outputs": [
    {
     "name": "stdout",
     "output_type": "stream",
     "text": [
      "(365785, 11)\n"
     ]
    }
   ],
   "source": [
    "data = pd.read_csv('../data/data_processed_plant_item_10_03_22.csv')\n",
    "print(data.shape)"
   ]
  },
  {
   "cell_type": "code",
   "execution_count": 3,
   "metadata": {},
   "outputs": [
    {
     "name": "stdout",
     "output_type": "stream",
     "text": [
      "   Unnamed: 0       ParentItemID PlantID  Volume        Date  time_idx  month  \\\n",
      "0        6636  AI19565015TWICA22    5M01       4  2019-02-01         0      2   \n",
      "1        6637  AI19565015TWICA22    5M01       0  2019-03-01         1      3   \n",
      "2        6638  AI19565015TWICA22    5M01       0  2019-04-01         2      4   \n",
      "3        6639  AI19565015TWICA22    5M01       0  2019-05-01         3      5   \n",
      "4        6640  AI19565015TWICA22    5M01      52  2019-06-01         4      6   \n",
      "\n",
      "   log_volume  avg_volume_by_material  avg_volume_by_plant  timeseries  \n",
      "0    1.386294                2.222222           165.928938          80  \n",
      "1  -18.420681                0.000000           248.715325          80  \n",
      "2  -18.420681                0.000000           146.664384          80  \n",
      "3  -18.420681                0.444444           151.811216          80  \n",
      "4    3.951244               15.555556           193.533818          80  \n"
     ]
    }
   ],
   "source": [
    "print(data.head())"
   ]
  },
  {
   "cell_type": "code",
   "execution_count": 4,
   "metadata": {},
   "outputs": [
    {
     "name": "stdout",
     "output_type": "stream",
     "text": [
      "[1.0]\n",
      "[1.0, 0.3254465915490182]\n",
      "[1.0, 0.3254465915490182, 0.2165141937724159]\n",
      "[1.0, 0.3254465915490182, 0.2165141937724159, 0.1317525486444198]\n",
      "[1.0, 0.3254465915490182, 0.2165141937724159, 0.1317525486444198, 0.06896607636585583]\n"
     ]
    },
    {
     "data": {
      "image/png": "[encoded data removed]",
      "text/plain": [
       "<Figure size 432x288 with 1 Axes>"
      ]
     },
     "metadata": {
      "needs_background": "light"
     },
     "output_type": "display_data"
    }
   ],
   "source": [
    "def autocorrelation(data):\n",
    "    mean_autocorrelations = []\n",
    "    timeseries_list = list(data['timeseries'].unique())\n",
    "    for lag in range(0, 5):\n",
    "        autocorrelations = []\n",
    "        for series in timeseries_list:\n",
    "            timeseries = data[data['timeseries'] == series]['Volume']\n",
    "            autocorrelations.append(timeseries.autocorr(lag=lag))\n",
    "        autocorrelations_array = np.array(autocorrelations)\n",
    "        autocorrelations_array = autocorrelations_array[~np.isnan(autocorrelations_array)]\n",
    "        mean_autocorrelations.append(np.mean(autocorrelations_array))\n",
    "        print(mean_autocorrelations)\n",
    "    plt.plot(range(len(mean_autocorrelations)), mean_autocorrelations)\n",
    "    plt.show()\n",
    "\n",
    "\n",
    "autocorrelation(data)"
   ]
  },
  {
   "cell_type": "code",
   "execution_count": 5,
   "metadata": {},
   "outputs": [],
   "source": [
    "#pd.DataFrame.to_csv(filtered_data, '../data/filtered_data.csv')"
   ]
  },
  {
   "cell_type": "code",
   "execution_count": 6,
   "metadata": {},
   "outputs": [
    {
     "data": {
      "image/png": "[encoded data removed]",
      "text/plain": [
       "<Figure size 576x360 with 1 Axes>"
      ]
     },
     "metadata": {
      "needs_background": "light"
     },
     "output_type": "display_data"
    }
   ],
   "source": [
    "def select_timeseries(filtered_data):\n",
    "    random_timeseries_index = np.random.randint(0, filtered_data.shape[0] / len(filtered_data['time_idx'].unique()))\n",
    "    timeseries_choice = list(filtered_data['timeseries'].unique())[random_timeseries_index]\n",
    "    selected_timeseries = filtered_data[filtered_data['timeseries'] == timeseries_choice]\n",
    "    plt.figure(figsize=(8, 5))\n",
    "    plt.grid()\n",
    "    plt.title(timeseries_choice)\n",
    "    plt.plot(selected_timeseries['time_idx'], selected_timeseries['Volume'], c='b')\n",
    "    #plt.plot(selected_timeseries['time_idx'], selected_timeseries['log_volume'], c='r')\n",
    "    plt.xlabel('month')\n",
    "    plt.ylabel('volume')\n",
    "    plt.show()\n",
    "    return selected_timeseries\n",
    "\n",
    "\n",
    "single_timeseries = select_timeseries(data)"
   ]
  },
  {
   "cell_type": "code",
   "execution_count": 80,
   "metadata": {},
   "outputs": [],
   "source": [
    "def select_cols(timeseries, selected_cols):\n",
    "    timeseries = timeseries[selected_cols]\n",
    "    return timeseries\n",
    "\n",
    "\n",
    "def train_test_split(timeseries, max_train_month):\n",
    "    train = timeseries.iloc[0:max_train_month + 1]\n",
    "    test = timeseries.iloc[max_train_month + 1::]\n",
    "    return train, test\n",
    "\n",
    "\n",
    "COL = ['Volume']\n",
    "MAX_TRAIN_MONTH = 28\n",
    "timeseries = select_cols(single_timeseries, COL)\n",
    "train, test = train_test_split(timeseries, MAX_TRAIN_MONTH)\n"
   ]
  },
  {
   "cell_type": "code",
   "execution_count": 81,
   "metadata": {},
   "outputs": [
    {
     "name": "stdout",
     "output_type": "stream",
     "text": [
      "        Volume\n",
      "215524      44\n",
      "215525       6\n",
      "215526       4\n",
      "215527      54\n",
      "215528      42\n",
      "215529       8\n"
     ]
    },
    {
     "data": {
      "image/png": "[encoded data removed]",
      "text/plain": [
       "<Figure size 576x360 with 1 Axes>"
      ]
     },
     "metadata": {
      "needs_background": "light"
     },
     "output_type": "display_data"
    }
   ],
   "source": [
    "def model_predict(test, train):\n",
    "    train = train.to_numpy()\n",
    "    test = test.to_numpy()\n",
    "    predictions = []\n",
    "    for t in range(len(test)):\n",
    "        model = ARIMA(train, order=(1, 1, 2))\n",
    "        model_fit = model.fit()\n",
    "        output = model_fit.forecast()\n",
    "        yhat = max([0, output[0]])\n",
    "        #print(yhat)\n",
    "        predictions.append(yhat)\n",
    "        train = np.append(train, np.array(predictions))[t + 1::]\n",
    "    return predictions\n",
    "\n",
    "\n",
    "def plotter(predictions, test, train, max_train_month):\n",
    "    print(test)\n",
    "    plt.figure(figsize=(8, 5))\n",
    "    plt.grid()\n",
    "    plt.title('ARIMA prediction')\n",
    "    plt.plot(range(len(train)), train, c='b')\n",
    "    plt.plot(range(max_train_month + 1, max_train_month + 1 + len(test)), test, c='b', label='true sales')\n",
    "    plt.plot(range(max_train_month + 1, max_train_month + 1 + len(test)), predictions, c='r', label='prediction')\n",
    "    plt.xlabel('month')\n",
    "    plt.ylabel('volume')\n",
    "    plt.legend()\n",
    "    plt.show()\n",
    "\n",
    "\n",
    "predictions_array = model_predict(test, train)\n",
    "plotter(predictions_array, test, train, MAX_TRAIN_MONTH)"
   ]
  },
  {
   "cell_type": "markdown",
   "metadata": {},
   "source": [
    "**Get predictions for whole dataset using ARIMA**"
   ]
  },
  {
   "cell_type": "code",
   "execution_count": 82,
   "metadata": {},
   "outputs": [
    {
     "name": "stdout",
     "output_type": "stream",
     "text": [
      "Num of timeseries: 10451\n",
      "Number of timeseries complete: 50\n",
      "Number of timeseries complete: 100\n",
      "Number of timeseries complete: 150\n",
      "Number of timeseries complete: 200\n",
      "Number of timeseries complete: 250\n",
      "Number of timeseries complete: 300\n",
      "Number of timeseries complete: 350\n",
      "Number of timeseries complete: 400\n",
      "Number of timeseries complete: 450\n",
      "Number of timeseries complete: 500\n",
      "Number of timeseries complete: 550\n",
      "Number of timeseries complete: 600\n",
      "Number of timeseries complete: 650\n",
      "Number of timeseries complete: 700\n",
      "Number of timeseries complete: 750\n",
      "Number of timeseries complete: 800\n",
      "Number of timeseries complete: 850\n",
      "Number of timeseries complete: 900\n",
      "Number of timeseries complete: 950\n",
      "Number of timeseries complete: 1000\n",
      "Number of timeseries complete: 1050\n",
      "Number of timeseries complete: 1100\n",
      "Number of timeseries complete: 1150\n",
      "Number of timeseries complete: 1200\n",
      "Number of timeseries complete: 1250\n",
      "Number of timeseries complete: 1300\n",
      "Number of timeseries complete: 1350\n",
      "Number of timeseries complete: 1400\n",
      "Number of timeseries complete: 1450\n",
      "Number of timeseries complete: 1500\n",
      "Number of timeseries complete: 1550\n",
      "Number of timeseries complete: 1600\n",
      "Number of timeseries complete: 1650\n",
      "Number of timeseries complete: 1700\n",
      "Number of timeseries complete: 1750\n",
      "Number of timeseries complete: 1800\n",
      "Number of timeseries complete: 1850\n",
      "Number of timeseries complete: 1900\n",
      "Number of timeseries complete: 1950\n",
      "Number of timeseries complete: 2000\n",
      "Number of timeseries complete: 2050\n",
      "Number of timeseries complete: 2100\n",
      "Number of timeseries complete: 2150\n",
      "Number of timeseries complete: 2200\n",
      "Number of timeseries complete: 2250\n",
      "Number of timeseries complete: 2300\n",
      "Number of timeseries complete: 2350\n",
      "Number of timeseries complete: 2400\n",
      "Number of timeseries complete: 2450\n",
      "Number of timeseries complete: 2500\n",
      "Number of timeseries complete: 2550\n",
      "Number of timeseries complete: 2600\n",
      "Number of timeseries complete: 2650\n",
      "Number of timeseries complete: 2700\n",
      "Number of timeseries complete: 2750\n",
      "Number of timeseries complete: 2800\n",
      "Number of timeseries complete: 2850\n",
      "Number of timeseries complete: 2900\n",
      "Number of timeseries complete: 2950\n",
      "Number of timeseries complete: 3000\n",
      "Number of timeseries complete: 3050\n",
      "Number of timeseries complete: 3100\n",
      "Number of timeseries complete: 3150\n",
      "Number of timeseries complete: 3200\n",
      "Number of timeseries complete: 3250\n",
      "Number of timeseries complete: 3300\n",
      "Number of timeseries complete: 3350\n",
      "Number of timeseries complete: 3400\n",
      "Number of timeseries complete: 3450\n",
      "Number of timeseries complete: 3500\n",
      "Number of timeseries complete: 3550\n",
      "Number of timeseries complete: 3600\n",
      "Number of timeseries complete: 3650\n",
      "Number of timeseries complete: 3700\n",
      "Number of timeseries complete: 3750\n",
      "Number of timeseries complete: 3800\n",
      "Number of timeseries complete: 3850\n",
      "Number of timeseries complete: 3900\n",
      "Number of timeseries complete: 3950\n",
      "Number of timeseries complete: 4000\n",
      "Number of timeseries complete: 4050\n",
      "Number of timeseries complete: 4100\n",
      "Number of timeseries complete: 4150\n",
      "Number of timeseries complete: 4200\n",
      "Number of timeseries complete: 4250\n",
      "Number of timeseries complete: 4300\n",
      "Number of timeseries complete: 4350\n",
      "Number of timeseries complete: 4400\n",
      "Number of timeseries complete: 4450\n",
      "Number of timeseries complete: 4500\n",
      "Number of timeseries complete: 4550\n",
      "Number of timeseries complete: 4600\n",
      "Number of timeseries complete: 4650\n",
      "Number of timeseries complete: 4700\n",
      "Number of timeseries complete: 4750\n",
      "Number of timeseries complete: 4800\n",
      "Number of timeseries complete: 4850\n",
      "Number of timeseries complete: 4900\n",
      "Number of timeseries complete: 4950\n",
      "Number of timeseries complete: 5000\n",
      "Number of timeseries complete: 5050\n",
      "Number of timeseries complete: 5100\n",
      "Number of timeseries complete: 5150\n",
      "Number of timeseries complete: 5200\n",
      "Number of timeseries complete: 5250\n",
      "Number of timeseries complete: 5300\n",
      "Number of timeseries complete: 5350\n",
      "Number of timeseries complete: 5400\n",
      "Number of timeseries complete: 5450\n",
      "Number of timeseries complete: 5500\n",
      "Number of timeseries complete: 5550\n",
      "Number of timeseries complete: 5600\n",
      "Number of timeseries complete: 5650\n",
      "Number of timeseries complete: 5700\n",
      "Number of timeseries complete: 5750\n",
      "Number of timeseries complete: 5800\n",
      "Number of timeseries complete: 5850\n",
      "Number of timeseries complete: 5900\n",
      "Number of timeseries complete: 5950\n",
      "Number of timeseries complete: 6000\n",
      "Number of timeseries complete: 6050\n",
      "Number of timeseries complete: 6100\n",
      "Number of timeseries complete: 6150\n",
      "Number of timeseries complete: 6200\n",
      "Number of timeseries complete: 6250\n",
      "Number of timeseries complete: 6300\n",
      "Number of timeseries complete: 6350\n",
      "Number of timeseries complete: 6400\n",
      "Number of timeseries complete: 6450\n",
      "Number of timeseries complete: 6500\n",
      "Number of timeseries complete: 6550\n",
      "Number of timeseries complete: 6600\n",
      "Number of timeseries complete: 6650\n",
      "Number of timeseries complete: 6700\n",
      "Number of timeseries complete: 6750\n",
      "Number of timeseries complete: 6800\n",
      "Number of timeseries complete: 6850\n",
      "Number of timeseries complete: 6900\n",
      "Number of timeseries complete: 6950\n",
      "Number of timeseries complete: 7000\n",
      "Number of timeseries complete: 7050\n",
      "Number of timeseries complete: 7100\n",
      "Number of timeseries complete: 7150\n",
      "Number of timeseries complete: 7200\n",
      "Number of timeseries complete: 7250\n",
      "Number of timeseries complete: 7300\n",
      "Number of timeseries complete: 7350\n",
      "Number of timeseries complete: 7400\n",
      "Number of timeseries complete: 7450\n",
      "Number of timeseries complete: 7500\n",
      "Number of timeseries complete: 7550\n",
      "Number of timeseries complete: 7600\n",
      "Number of timeseries complete: 7650\n",
      "Number of timeseries complete: 7700\n",
      "Number of timeseries complete: 7750\n",
      "Number of timeseries complete: 7800\n",
      "Number of timeseries complete: 7850\n",
      "Number of timeseries complete: 7900\n",
      "Number of timeseries complete: 7950\n",
      "Number of timeseries complete: 8000\n",
      "Number of timeseries complete: 8050\n",
      "Number of timeseries complete: 8100\n",
      "Number of timeseries complete: 8150\n",
      "Number of timeseries complete: 8200\n",
      "Number of timeseries complete: 8250\n",
      "Number of timeseries complete: 8300\n",
      "Number of timeseries complete: 8350\n",
      "Number of timeseries complete: 8400\n",
      "Number of timeseries complete: 8450\n",
      "Number of timeseries complete: 8500\n",
      "Number of timeseries complete: 8550\n",
      "Number of timeseries complete: 8600\n",
      "Number of timeseries complete: 8650\n",
      "Number of timeseries complete: 8700\n",
      "Number of timeseries complete: 8750\n",
      "Number of timeseries complete: 8800\n",
      "Number of timeseries complete: 8850\n",
      "Number of timeseries complete: 8900\n",
      "Number of timeseries complete: 8950\n",
      "Number of timeseries complete: 9000\n",
      "Number of timeseries complete: 9050\n",
      "Number of timeseries complete: 9100\n",
      "Number of timeseries complete: 9150\n",
      "Number of timeseries complete: 9200\n",
      "Number of timeseries complete: 9250\n",
      "Number of timeseries complete: 9300\n",
      "Number of timeseries complete: 9350\n",
      "Number of timeseries complete: 9400\n",
      "Number of timeseries complete: 9450\n",
      "Number of timeseries complete: 9500\n",
      "Number of timeseries complete: 9550\n",
      "Number of timeseries complete: 9600\n",
      "Number of timeseries complete: 9650\n",
      "Number of timeseries complete: 9700\n",
      "Number of timeseries complete: 9750\n",
      "Number of timeseries complete: 9800\n",
      "Number of timeseries complete: 9850\n",
      "Number of timeseries complete: 9900\n",
      "Number of timeseries complete: 9950\n",
      "Number of timeseries complete: 10000\n",
      "Number of timeseries complete: 10050\n",
      "Number of timeseries complete: 10100\n",
      "Number of timeseries complete: 10150\n",
      "Number of timeseries complete: 10200\n",
      "Number of timeseries complete: 10250\n",
      "Number of timeseries complete: 10300\n",
      "Number of timeseries complete: 10350\n",
      "Number of timeseries complete: 10400\n",
      "Number of timeseries complete: 10450\n"
     ]
    }
   ],
   "source": [
    "def get_predictions(data, max_train_month, selected_col):\n",
    "    print('Num of timeseries:', int(data.shape[0] / len(data['time_idx'].unique())))\n",
    "    pred_array = np.zeros((int(data.shape[0] / len(data['time_idx'].unique())), len(data['time_idx'].unique()) - (1 + max_train_month)))\n",
    "    test_array = np.zeros((int(data.shape[0] / len(data['time_idx'].unique())), len(data['time_idx'].unique()) - (1 + max_train_month)))\n",
    "    index = 0\n",
    "    for timeseries in list(data['timeseries'].unique()):\n",
    "        single_timeseries = data[data['timeseries'] == timeseries]\n",
    "        single_timeseries = select_cols(single_timeseries, selected_col)\n",
    "        train, test = train_test_split(single_timeseries, max_train_month)\n",
    "        predictions = model_predict(test, train)\n",
    "        test_array[index, :] = np.squeeze(np.array(test))\n",
    "        pred_array[index, :] = np.squeeze(np.array(predictions))\n",
    "        index += 1\n",
    "        if index % 50 == 0:\n",
    "            print('Number of timeseries complete:', index, end='\\r')\n",
    "    return pred_array, test_array\n",
    "\n",
    "\n",
    "pred_array, test_array = get_predictions(data, MAX_TRAIN_MONTH, COL)"
   ]
  },
  {
   "cell_type": "code",
   "execution_count": 84,
   "metadata": {},
   "outputs": [
    {
     "data": {
      "image/png": "[encoded data removed]",
      "text/plain": [
       "<Figure size 576x360 with 1 Axes>"
      ]
     },
     "metadata": {
      "needs_background": "light"
     },
     "output_type": "display_data"
    }
   ],
   "source": [
    "plt.figure(figsize=(8, 5))\n",
    "plt.grid()\n",
    "plt.title('ARIMA prediction')\n",
    "plt.plot(range(len(test)), test, c='b', label='true sales')\n",
    "plt.plot(range(len(pred)), pred, c='r', label='prediction')\n",
    "plt.xlabel('month')\n",
    "plt.ylabel('volume')\n",
    "plt.legend()\n",
    "plt.show()"
   ]
  },
  {
   "cell_type": "code",
   "execution_count": 90,
   "metadata": {},
   "outputs": [
    {
     "name": "stdout",
     "output_type": "stream",
     "text": [
      "[[203.   0.   0.   0.   0.   0.]\n",
      " [  0.   0.  10.   3.   0.   0.]\n",
      " [  0.   0.   8.   8.   4.   1.]\n",
      " [  0.  40.  38.   0.  78.  42.]]\n"
     ]
    }
   ],
   "source": [
    "print(test_array[0:4])"
   ]
  },
  {
   "cell_type": "code",
   "execution_count": 87,
   "metadata": {},
   "outputs": [],
   "source": [
    "np.save('../data/model_preds/ARIMA_predictions', pred_array)\n",
    "np.save('../data/model_preds/actual_sales', test_array)"
   ]
  }
 ],
 "metadata": {
  "interpreter": {
   "hash": "39107c45289741facd1c574d4c3f3f1db037868d86098ed4da8abb8e076ff11e"
  },
  "kernelspec": {
   "display_name": "Python 3.8.11 ('base')",
   "language": "python",
   "name": "python3"
  },
  "language_info": {
   "codemirror_mode": {
    "name": "ipython",
    "version": 3
   },
   "file_extension": ".py",
   "mimetype": "text/x-python",
   "name": "python",
   "nbconvert_exporter": "python",
   "pygments_lexer": "ipython3",
   "version": "3.8.11"
  },
  "orig_nbformat": 4
 },
 "nbformat": 4,
 "nbformat_minor": 2
}
